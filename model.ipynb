{
 "cells": [
  {
   "cell_type": "code",
   "execution_count": 54,
   "metadata": {},
   "outputs": [],
   "source": [
    "import pandas as pd\n",
    "import numpy as np\n",
    "\n",
    "train_path = 'E:\\\\Studies\\\\Competition\\\\Dataset\\\\rab\\\\train_df.csv'\n",
    "test_path = 'E:\\\\Studies\\\\Competition\\\\Dataset\\\\rab\\\\test_df.csv'\n",
    "\n",
    "train_df = pd.read_csv(train_path)\n",
    "test_df = pd.read_csv(test_path)\n"
   ]
  },
  {
   "cell_type": "code",
   "execution_count": 55,
   "metadata": {},
   "outputs": [
    {
     "data": {
      "text/html": [
       "<div>\n",
       "<style scoped>\n",
       "    .dataframe tbody tr th:only-of-type {\n",
       "        vertical-align: middle;\n",
       "    }\n",
       "\n",
       "    .dataframe tbody tr th {\n",
       "        vertical-align: top;\n",
       "    }\n",
       "\n",
       "    .dataframe thead th {\n",
       "        text-align: right;\n",
       "    }\n",
       "</style>\n",
       "<table border=\"1\" class=\"dataframe\">\n",
       "  <thead>\n",
       "    <tr style=\"text-align: right;\">\n",
       "      <th></th>\n",
       "      <th>summary</th>\n",
       "      <th>genre</th>\n",
       "      <th>Label</th>\n",
       "      <th>cleaned_summary</th>\n",
       "    </tr>\n",
       "  </thead>\n",
       "  <tbody>\n",
       "    <tr>\n",
       "      <th>0</th>\n",
       "      <td>#BookReview\\r\\n\\r\\nবইঃ চাঁদের পাহাড়\\r\\nধরনঃ অ...</td>\n",
       "      <td>Childrens-Book</td>\n",
       "      <td>2</td>\n",
       "      <td>বই চাঁদের পাহাড় ধরন অ্যাডভেঞ্চার লেখক বিভূতিভ...</td>\n",
       "    </tr>\n",
       "    <tr>\n",
       "      <th>1</th>\n",
       "      <td>বেশির ভাগ বই ই আমার ভাললাগে। কিন্তু এই টাইপের ...</td>\n",
       "      <td>Fiction</td>\n",
       "      <td>0</td>\n",
       "      <td>বেশির ভাগ বই ই আমার ভাললাগে কিন্তু এই টাইপের ব...</td>\n",
       "    </tr>\n",
       "    <tr>\n",
       "      <th>2</th>\n",
       "      <td>মিসির আলি এখন তার ছাত্র ফারুকের শ্বশুর বাড়ি কই...</td>\n",
       "      <td>Fiction</td>\n",
       "      <td>0</td>\n",
       "      <td>মিসির আলি এখন তার ছাত্র ফারুকের শ্বশুর বাড়ি কই...</td>\n",
       "    </tr>\n",
       "    <tr>\n",
       "      <th>3</th>\n",
       "      <td>ছোটজাতের ছোটজাত হাসিম। পিতৃপ্রদত্ত নামখানা একর...</td>\n",
       "      <td>Fiction</td>\n",
       "      <td>0</td>\n",
       "      <td>ছোটজাতের ছোটজাত হাসিম পিতৃপ্রদত্ত নামখানা একরক...</td>\n",
       "    </tr>\n",
       "    <tr>\n",
       "      <th>4</th>\n",
       "      <td>ফালতু একটা বই। পয়সা নষ্ট। বাজে লেখনী। একই জিনি...</td>\n",
       "      <td>Political</td>\n",
       "      <td>3</td>\n",
       "      <td>ফালতু একটা বই পয়সা নষ্ট বাজে লেখনী একই জিনিস ব...</td>\n",
       "    </tr>\n",
       "  </tbody>\n",
       "</table>\n",
       "</div>"
      ],
      "text/plain": [
       "                                             summary           genre  Label  \\\n",
       "0  #BookReview\\r\\n\\r\\nবইঃ চাঁদের পাহাড়\\r\\nধরনঃ অ...  Childrens-Book      2   \n",
       "1  বেশির ভাগ বই ই আমার ভাললাগে। কিন্তু এই টাইপের ...         Fiction      0   \n",
       "2  মিসির আলি এখন তার ছাত্র ফারুকের শ্বশুর বাড়ি কই...         Fiction      0   \n",
       "3  ছোটজাতের ছোটজাত হাসিম। পিতৃপ্রদত্ত নামখানা একর...         Fiction      0   \n",
       "4  ফালতু একটা বই। পয়সা নষ্ট। বাজে লেখনী। একই জিনি...       Political      3   \n",
       "\n",
       "                                     cleaned_summary  \n",
       "0  বই চাঁদের পাহাড় ধরন অ্যাডভেঞ্চার লেখক বিভূতিভ...  \n",
       "1  বেশির ভাগ বই ই আমার ভাললাগে কিন্তু এই টাইপের ব...  \n",
       "2  মিসির আলি এখন তার ছাত্র ফারুকের শ্বশুর বাড়ি কই...  \n",
       "3  ছোটজাতের ছোটজাত হাসিম পিতৃপ্রদত্ত নামখানা একরক...  \n",
       "4  ফালতু একটা বই পয়সা নষ্ট বাজে লেখনী একই জিনিস ব...  "
      ]
     },
     "execution_count": 55,
     "metadata": {},
     "output_type": "execute_result"
    }
   ],
   "source": [
    "# print(train_df.info())\n",
    "# print(train_df.head())\n",
    "\n",
    "# print(test_df.info())\n",
    "# print(test_df.head())\n",
    "\n",
    "train_df.head()\n"
   ]
  },
  {
   "cell_type": "code",
   "execution_count": 56,
   "metadata": {},
   "outputs": [],
   "source": [
    "# Drop rows with missing values\n",
    "train_df[\"cleaned_summary\"].fillna(\"কিছু একটা হবে কি হবে জানি না দেখা যাক আশা করি ভালো কিছুই হবে\", inplace = True)\n",
    "test_df[\"cleaned_summary\"].fillna(\"কিছু একটা হবে কি হবে জানি না দেখা যাক আশা করি ভালো কিছুই হবে\", inplace = True)\n"
   ]
  },
  {
   "cell_type": "code",
   "execution_count": 57,
   "metadata": {},
   "outputs": [
    {
     "data": {
      "text/plain": [
       "Id                 0\n",
       "summary            0\n",
       "cleaned_summary    0\n",
       "dtype: int64"
      ]
     },
     "execution_count": 57,
     "metadata": {},
     "output_type": "execute_result"
    }
   ],
   "source": [
    "test_df.isnull().sum()"
   ]
  },
  {
   "cell_type": "code",
   "execution_count": 58,
   "metadata": {},
   "outputs": [],
   "source": [
    "import re\n",
    "\n",
    "def clean_text(text):\n",
    "    # Remove any special characters, numbers, etc.\n",
    "    # words_to_clean_visarga = ['নাম', 'লেখক', 'প্রকাশনী', 'ধরণ', 'বই', 'মূল্য', 'পৃষ্টা', 'প্রকাশক', 'অনুবাদক']\n",
    "    # pattern = '(' + '|'.join(words_to_clean_visarga) + ')ঃ'\n",
    "    # text = re.sub(pattern, r'\\1', text)\n",
    "    # text = re.sub(r'[^\\u0980-\\u09FF]', ' ', text)  \n",
    "    # text = re.sub(r'[\\u09E6-\\u09EF]', '', text) \n",
    "    # text = re.sub(r'\\s+', ' ', text).strip() \n",
    "    text = re.sub('নাম', '', text)\n",
    "    text = re.sub('লেখক', '', text)\n",
    "    text = re.sub('প্রকাশনী', '', text)\n",
    "    text = re.sub('ধরণ', '', text)\n",
    "    text = re.sub('বই', '', text)\n",
    "    text = re.sub('মূল্য', '', text)\n",
    "    text = re.sub('পৃষ্টা', '', text)\n",
    "    text = re.sub('প্রকাশক', '', text)\n",
    "    text = re.sub('অনুবাদক', '', text)\n",
    "    text = re.sub('বইয়ের', '', text)\n",
    "    return text\n",
    "\n",
    "# Text cleaning on the 'summary' column\n",
    "train_df['cleaned_summary'] = train_df['summary'].apply(clean_text)\n",
    "test_df['cleaned_summary'] = test_df['summary'].apply(clean_text)"
   ]
  },
  {
   "cell_type": "code",
   "execution_count": 59,
   "metadata": {},
   "outputs": [
    {
     "data": {
      "text/plain": [
       "(687, 3)"
      ]
     },
     "execution_count": 59,
     "metadata": {},
     "output_type": "execute_result"
    }
   ],
   "source": [
    "test_df.shape"
   ]
  },
  {
   "cell_type": "code",
   "execution_count": 60,
   "metadata": {},
   "outputs": [
    {
     "name": "stderr",
     "output_type": "stream",
     "text": [
      "[nltk_data] Downloading package punkt to\n",
      "[nltk_data]     C:\\Users\\tanji\\AppData\\Roaming\\nltk_data...\n",
      "[nltk_data]   Package punkt is already up-to-date!\n"
     ]
    }
   ],
   "source": [
    "import pandas as pd\n",
    "from gensim.models import Word2Vec\n",
    "import nltk\n",
    "nltk.download('punkt')\n",
    "from nltk.tokenize import word_tokenize\n",
    "\n",
    "# Tokenize the sentences\n",
    "train_sentences = train_df['cleaned_summary'].apply(word_tokenize).tolist()\n"
   ]
  },
  {
   "cell_type": "code",
   "execution_count": 61,
   "metadata": {},
   "outputs": [],
   "source": [
    "from bnlp import BengaliWord2Vec\n",
    "\n",
    "bwv = BengaliWord2Vec()\n",
    "\n",
    "def document_vector(word_list):\n",
    "\n",
    "    # Initialize an empty list to hold the vectors\n",
    "    doc_vectors = []\n",
    "    for word in word_list:\n",
    "        try:\n",
    "            # Try to retrieve the vector for 'word'\n",
    "            word_vector = bwv.get_word_vector(word)\n",
    "            doc_vectors.append(word_vector)\n",
    "\n",
    "        except KeyError:\n",
    "            # If the word is not in the model's vocabulary, skip it\n",
    "            continue\n",
    "\n",
    "    # If there are no vectors in doc_vectors (e.g., when all words are out-of-vocabulary), return a zero vector\n",
    "    if not doc_vectors:\n",
    "        return np.zeros(100)  # Adjust the size to match the BNLP model's vector size\n",
    "    \n",
    "    # Average the word vectors to create a single vector for the document\n",
    "    return np.mean(doc_vectors, axis=0)\n",
    "\n",
    "# Prepare the input for the document_vector function\n",
    "train_sentences = train_df['cleaned_summary'].apply(lambda x: x.split()).tolist()\n",
    "\n",
    "# Generate document vectors for each summary\n",
    "train_vectors = np.array([document_vector(doc) for doc in train_sentences])\n",
    "\n",
    "# Prepare the labels for training\n",
    "train_labels = train_df['Label'].values\n"
   ]
  },
  {
   "cell_type": "code",
   "execution_count": 62,
   "metadata": {},
   "outputs": [],
   "source": [
    "from sklearn.model_selection import train_test_split\n",
    "\n",
    "# Split the data into training and validation sets\n",
    "X_train, X_val, y_train, y_val = train_test_split(\n",
    "    train_vectors, \n",
    "    train_labels, \n",
    "    test_size=0.2,   # 80% for training and 20% for validation\n",
    "    random_state=42  # Seed for reproducibility\n",
    ")\n"
   ]
  },
  {
   "cell_type": "code",
   "execution_count": 63,
   "metadata": {},
   "outputs": [
    {
     "name": "stdout",
     "output_type": "stream",
     "text": [
      "Label\n",
      "0    1345\n",
      "1     702\n",
      "2     497\n",
      "3     439\n",
      "4     410\n",
      "5     297\n",
      "6     196\n",
      "Name: count, dtype: int64\n"
     ]
    },
    {
     "data": {
      "image/png": "[encoded data removed]",
      "text/plain": [
       "<Figure size 640x480 with 1 Axes>"
      ]
     },
     "metadata": {},
     "output_type": "display_data"
    }
   ],
   "source": [
    "# Check for class distribution\n",
    "class_distribution = train_df['Label'].value_counts()\n",
    "print(class_distribution)\n",
    "\n",
    "# Visualize class distribution\n",
    "import matplotlib.pyplot as plt\n",
    "\n",
    "class_distribution.plot(kind='bar')\n",
    "plt.xlabel('Class')\n",
    "plt.ylabel('Frequency')\n",
    "plt.title('Class Distribution')\n",
    "plt.show()\n"
   ]
  },
  {
   "cell_type": "code",
   "execution_count": 64,
   "metadata": {},
   "outputs": [],
   "source": [
    "# from sklearn.preprocessing import StandardScaler\n",
    "\n",
    "# scaler = StandardScaler()\n",
    "# X_train_scaled = scaler.fit_transform(X_train)\n",
    "# X_val_scaled = scaler.transform(X_val)\n"
   ]
  },
  {
   "cell_type": "code",
   "execution_count": 65,
   "metadata": {},
   "outputs": [],
   "source": [
    "# from imblearn.over_sampling import SMOTE\n",
    "\n",
    "# # Initialize SMOTE\n",
    "# smote = SMOTE()\n",
    "\n",
    "# # Resample the training data\n",
    "# X_train_resampled, y_train_resampled = smote.fit_resample(X_train_scaled, y_train)\n"
   ]
  },
  {
   "cell_type": "code",
   "execution_count": 66,
   "metadata": {},
   "outputs": [],
   "source": [
    "# from collections import Counter\n",
    "\n",
    "# # Class distribution in the resampled training set\n",
    "# resampled_class_distribution = Counter(y_train_resampled)\n",
    "# print(resampled_class_distribution)\n",
    "\n",
    "# # Visualizing the new class distribution\n",
    "# resampled_class_distribution_df = pd.DataFrame(list(resampled_class_distribution.items()), columns=['Class', 'Frequency']).sort_values(by='Class')\n",
    "# resampled_class_distribution_df.plot(kind='bar', x='Class', y='Frequency')\n",
    "# plt.xlabel('Class')\n",
    "# plt.ylabel('Frequency')\n",
    "# plt.title('Class Distribution after SMOTE')\n",
    "# plt.show()\n"
   ]
  },
  {
   "cell_type": "code",
   "execution_count": 67,
   "metadata": {},
   "outputs": [
    {
     "name": "stderr",
     "output_type": "stream",
     "text": [
      "Some weights of BertForSequenceClassification were not initialized from the model checkpoint at sagorsarker/bangla-bert-base and are newly initialized: ['classifier.bias', 'classifier.weight']\n",
      "You should probably TRAIN this model on a down-stream task to be able to use it for predictions and inference.\n"
     ]
    }
   ],
   "source": [
    "from transformers import AutoModelForSequenceClassification, AutoTokenizer\n",
    "\n",
    "model_name = \"sagorsarker/bangla-bert-base\"\n",
    "tokenizer = AutoTokenizer.from_pretrained(model_name)\n",
    "model = AutoModelForSequenceClassification.from_pretrained(model_name, num_labels=7)  # Adjust num_labels to match your dataset\n"
   ]
  },
  {
   "cell_type": "code",
   "execution_count": 68,
   "metadata": {},
   "outputs": [],
   "source": [
    "# Tokenize and align the sequences to the same length\n",
    "max_length = 512  # BERT models typically work with sequences of up to 512 tokens\n",
    "X_train_tokenized = tokenizer(\n",
    "    train_df['cleaned_summary'].tolist(),\n",
    "    padding=True,\n",
    "    truncation=True,\n",
    "    max_length=max_length,\n",
    "    return_tensors=\"pt\"\n",
    ")\n"
   ]
  },
  {
   "cell_type": "code",
   "execution_count": 69,
   "metadata": {},
   "outputs": [],
   "source": [
    "import torch\n",
    "from torch.utils.data import DataLoader, TensorDataset\n",
    "\n",
    "# Create a dataset from the encoded tokens and labels\n",
    "train_dataset = TensorDataset(\n",
    "    X_train_tokenized['input_ids'],\n",
    "    X_train_tokenized['attention_mask'],\n",
    "    torch.tensor(train_df['Label'].tolist())\n",
    ")\n",
    "\n",
    "# Create a data loader\n",
    "batch_size = 16\n",
    "train_loader = DataLoader(train_dataset, batch_size=batch_size, shuffle=True)\n"
   ]
  },
  {
   "cell_type": "code",
   "execution_count": 70,
   "metadata": {},
   "outputs": [],
   "source": [
    "torch.cuda.empty_cache()"
   ]
  },
  {
   "cell_type": "code",
   "execution_count": 71,
   "metadata": {},
   "outputs": [],
   "source": [
    "from torch.utils.data import DataLoader, TensorDataset\n",
    "import torch\n",
    "\n",
    "train_texts, val_texts, train_labels, val_labels = train_test_split(\n",
    "    train_df['cleaned_summary'], train_df['Label'], test_size=0.1, random_state=42\n",
    ")\n",
    "\n",
    "# Tokenizing the validation texts\n",
    "val_encodings = tokenizer(\n",
    "    val_texts.tolist(),  # List of validation texts\n",
    "    padding=True,\n",
    "    truncation=True,\n",
    "    max_length=max_length,  # Make sure this is defined (typically 512 for BERT models)\n",
    "    return_tensors=\"pt\"\n",
    ")\n",
    "\n",
    "# Creating validation dataset\n",
    "val_labels_tensor = torch.tensor(val_labels.values)  # Convert labels to tensor\n",
    "val_dataset = TensorDataset(\n",
    "    val_encodings['input_ids'],\n",
    "    val_encodings['attention_mask'],\n",
    "    val_labels_tensor\n",
    ")\n",
    "\n",
    "# Creating validation data loader\n",
    "batch_size = 16  # Or any other batch size suitable for your setup\n",
    "val_loader = DataLoader(val_dataset, batch_size=batch_size)\n"
   ]
  },
  {
   "cell_type": "code",
   "execution_count": 72,
   "metadata": {},
   "outputs": [
    {
     "name": "stderr",
     "output_type": "stream",
     "text": [
      "Epoch 1/4: 100%|██████████| 243/243 [46:59<00:00, 11.60s/it]\n"
     ]
    },
    {
     "name": "stdout",
     "output_type": "stream",
     "text": [
      "Epoch 1 completed. Average Loss: 1.1369, Training Accuracy: 0.5875\n"
     ]
    },
    {
     "name": "stderr",
     "output_type": "stream",
     "text": [
      "Validating: 100%|██████████| 25/25 [00:43<00:00,  1.73s/it]\n"
     ]
    },
    {
     "name": "stdout",
     "output_type": "stream",
     "text": [
      "Validation Loss: 0.5307, Validation Accuracy: 0.8458, Validation F1 Score: 0.8220\n"
     ]
    },
    {
     "name": "stderr",
     "output_type": "stream",
     "text": [
      "Epoch 2/4: 100%|██████████| 243/243 [48:01<00:00, 11.86s/it]\n"
     ]
    },
    {
     "name": "stdout",
     "output_type": "stream",
     "text": [
      "Epoch 2 completed. Average Loss: 0.4944, Training Accuracy: 0.8296\n"
     ]
    },
    {
     "name": "stderr",
     "output_type": "stream",
     "text": [
      "Validating: 100%|██████████| 25/25 [01:00<00:00,  2.41s/it]\n"
     ]
    },
    {
     "name": "stdout",
     "output_type": "stream",
     "text": [
      "Validation Loss: 0.2911, Validation Accuracy: 0.8972, Validation F1 Score: 0.8842\n"
     ]
    },
    {
     "name": "stderr",
     "output_type": "stream",
     "text": [
      "Epoch 3/4: 100%|██████████| 243/243 [48:51<00:00, 12.06s/it]\n"
     ]
    },
    {
     "name": "stdout",
     "output_type": "stream",
     "text": [
      "Epoch 3 completed. Average Loss: 0.2929, Training Accuracy: 0.9014\n"
     ]
    },
    {
     "name": "stderr",
     "output_type": "stream",
     "text": [
      "Validating: 100%|██████████| 25/25 [00:54<00:00,  2.18s/it]\n"
     ]
    },
    {
     "name": "stdout",
     "output_type": "stream",
     "text": [
      "Validation Loss: 0.1403, Validation Accuracy: 0.9589, Validation F1 Score: 0.9542\n"
     ]
    },
    {
     "name": "stderr",
     "output_type": "stream",
     "text": [
      "Epoch 4/4: 100%|██████████| 243/243 [49:07<00:00, 12.13s/it]\n"
     ]
    },
    {
     "name": "stdout",
     "output_type": "stream",
     "text": [
      "Epoch 4 completed. Average Loss: 0.1924, Training Accuracy: 0.9300\n"
     ]
    },
    {
     "name": "stderr",
     "output_type": "stream",
     "text": [
      "Validating: 100%|██████████| 25/25 [01:19<00:00,  3.17s/it]"
     ]
    },
    {
     "name": "stdout",
     "output_type": "stream",
     "text": [
      "Validation Loss: 0.0961, Validation Accuracy: 0.9666, Validation F1 Score: 0.9670\n"
     ]
    },
    {
     "name": "stderr",
     "output_type": "stream",
     "text": [
      "\n"
     ]
    }
   ],
   "source": [
    "from transformers import AdamW\n",
    "import torch\n",
    "from sklearn.metrics import accuracy_score, f1_score\n",
    "from tqdm import tqdm\n",
    "\n",
    "device = torch.device(\"cuda\" if torch.cuda.is_available() else \"cpu\")\n",
    "model = model.to(device)\n",
    "\n",
    "num_epochs = 4\n",
    "optimizer = AdamW(model.parameters(), lr=2e-5)\n",
    "\n",
    "for epoch in range(num_epochs):\n",
    "    model.train()  # Training mode\n",
    "    total_loss = 0\n",
    "    total_correct = 0\n",
    "    total_examples = 0\n",
    "\n",
    "    for batch in tqdm(train_loader, desc=f\"Epoch {epoch+1}/{num_epochs}\"):\n",
    "        inputs, masks, labels = batch\n",
    "        inputs, masks, labels = inputs.to(device), masks.to(device), labels.to(device)\n",
    "\n",
    "        optimizer.zero_grad()\n",
    "        outputs = model(inputs, attention_mask=masks, labels=labels)\n",
    "        loss = outputs.loss\n",
    "        total_loss += loss.item()\n",
    "\n",
    "        logits = outputs.logits.detach()\n",
    "        predictions = torch.argmax(logits, dim=1)\n",
    "        total_correct += (predictions == labels).sum().item()\n",
    "        total_examples += labels.size(0)\n",
    "\n",
    "        loss.backward()\n",
    "        optimizer.step()\n",
    "\n",
    "    avg_loss = total_loss / len(train_loader)\n",
    "    training_accuracy = total_correct / total_examples\n",
    "    print(f\"Epoch {epoch+1} completed. Average Loss: {avg_loss:.4f}, Training Accuracy: {training_accuracy:.4f}\")\n",
    "\n",
    "    # Validation\n",
    "    model.eval()  # Evaluation mode\n",
    "    total_val_loss = 0\n",
    "    all_predictions = []\n",
    "    all_true_labels = []\n",
    "\n",
    "    with torch.no_grad():\n",
    "        for inputs, masks, labels in tqdm(val_loader, desc=\"Validating\"):\n",
    "            inputs, masks, labels = inputs.to(device), masks.to(device), labels.to(device)\n",
    "\n",
    "            outputs = model(inputs, attention_mask=masks, labels=labels)\n",
    "            loss = outputs.loss\n",
    "            total_val_loss += loss.item()\n",
    "\n",
    "            logits = outputs.logits.detach()\n",
    "            predictions = torch.argmax(logits, dim=1)\n",
    "            all_predictions.extend(predictions.cpu().numpy())\n",
    "            all_true_labels.extend(labels.cpu().numpy())\n",
    "\n",
    "    avg_val_loss = total_val_loss / len(val_loader)\n",
    "    val_accuracy = accuracy_score(all_true_labels, all_predictions)\n",
    "    val_f1_score = f1_score(all_true_labels, all_predictions, average='macro')\n",
    "    print(f\"Validation Loss: {avg_val_loss:.4f}, Validation Accuracy: {val_accuracy:.4f}, Validation F1 Score: {val_f1_score:.4f}\")\n"
   ]
  },
  {
   "cell_type": "code",
   "execution_count": 73,
   "metadata": {},
   "outputs": [],
   "source": [
    "from sklearn.model_selection import train_test_split\n",
    "\n",
    "train_texts, val_texts, train_labels, val_labels = train_test_split(\n",
    "    train_df['cleaned_summary'], train_df['Label'], test_size=0.1, random_state=42\n",
    ")\n",
    "\n",
    "# Tokenizing the validation texts\n",
    "val_encodings = tokenizer(\n",
    "    val_texts.tolist(),  # List of validation texts\n",
    "    padding=True,\n",
    "    truncation=True,\n",
    "    max_length=max_length,\n",
    "    return_tensors=\"pt\"\n",
    ")\n",
    "\n",
    "# Creating validation dataset\n",
    "val_dataset = TensorDataset(\n",
    "    val_encodings['input_ids'],\n",
    "    val_encodings['attention_mask'],\n",
    "    torch.tensor(val_labels.tolist())\n",
    ")"
   ]
  },
  {
   "cell_type": "code",
   "execution_count": 74,
   "metadata": {},
   "outputs": [
    {
     "name": "stdout",
     "output_type": "stream",
     "text": [
      "Macro F1 Score: 0.9669841127096609\n",
      "              precision    recall  f1-score   support\n",
      "\n",
      "           0       0.99      0.95      0.97       144\n",
      "           1       0.98      0.96      0.97        54\n",
      "           2       0.97      0.98      0.97        59\n",
      "           3       0.84      1.00      0.91        41\n",
      "           4       1.00      1.00      1.00        43\n",
      "           5       0.97      0.91      0.94        34\n",
      "           6       1.00      1.00      1.00        14\n",
      "\n",
      "    accuracy                           0.97       389\n",
      "   macro avg       0.96      0.97      0.97       389\n",
      "weighted avg       0.97      0.97      0.97       389\n",
      "\n"
     ]
    }
   ],
   "source": [
    "from sklearn.metrics import f1_score, classification_report\n",
    "\n",
    "# Evaluation mode\n",
    "model.eval()\n",
    "\n",
    "# Initialize lists to store true labels and predictions\n",
    "true_labels = []\n",
    "predictions = []\n",
    "\n",
    "with torch.no_grad():\n",
    "    for batch in DataLoader(val_dataset, batch_size=batch_size):\n",
    "        inputs, masks, labels = batch\n",
    "\n",
    "        # Move the batch to the correct device\n",
    "        inputs = inputs.to(device)\n",
    "        masks = masks.to(device)\n",
    "        labels = labels.to(device)\n",
    "\n",
    "        # Get model predictions\n",
    "        outputs = model(inputs, attention_mask=masks)\n",
    "\n",
    "        # Move logits and labels to CPU\n",
    "        logits = outputs.logits.detach().cpu().numpy()\n",
    "        label_ids = labels.to('cpu').numpy()\n",
    "\n",
    "        # Store true labels and predictions\n",
    "        true_labels.extend(label_ids)\n",
    "        predictions.extend(np.argmax(logits, axis=1))\n",
    "\n",
    "# Calculate the F1 score\n",
    "macro_f1 = f1_score(true_labels, predictions, average='macro')\n",
    "print(f'Macro F1 Score: {macro_f1}')\n",
    "\n",
    "print(classification_report(true_labels, predictions))\n"
   ]
  },
  {
   "cell_type": "code",
   "execution_count": 75,
   "metadata": {},
   "outputs": [],
   "source": [
    "import random\n",
    "\n",
    "\n",
    "label_to_genre = {\n",
    "    0: 'Fiction',\n",
    "    1: 'Thriller',\n",
    "    2: 'Childrens-Book',\n",
    "    3: 'Political',\n",
    "    4: 'Science-Fiction',\n",
    "    5: 'War',\n",
    "    6: 'Motivational'\n",
    "}\n",
    "\n",
    "# Evaluation mode\n",
    "model.eval()\n",
    "\n",
    "# Tokenizing the test data summaries\n",
    "test_encodings = tokenizer(\n",
    "    test_df['cleaned_summary'].tolist(),\n",
    "    padding=True,\n",
    "    truncation=True,\n",
    "    max_length=max_length,\n",
    "    return_tensors='pt'\n",
    ")\n",
    "\n",
    "# Creating a DataLoader for the test set\n",
    "test_dataset = TensorDataset(\n",
    "    test_encodings['input_ids'],\n",
    "    test_encodings['attention_mask']\n",
    ")\n",
    "\n",
    "# Initializing a DataLoader for the test set\n",
    "test_loader = DataLoader(test_dataset, batch_size=batch_size, shuffle=False)\n",
    "\n",
    "# Initializing a list to store the predictions\n",
    "test_predictions = []\n",
    "\n",
    "# Predict\n",
    "with torch.no_grad():\n",
    "    for batch in test_loader:\n",
    "        # Unpack the batch\n",
    "        inputs, masks = batch\n",
    "\n",
    "        # Move the batch to the correct device\n",
    "        inputs = inputs.to(device)\n",
    "        masks = masks.to(device)\n",
    "\n",
    "        # Forward pass, get the logits\n",
    "        outputs = model(inputs, attention_mask=masks)\n",
    "\n",
    "        # Move logits to CPU\n",
    "        logits = outputs.logits.detach().cpu().numpy()\n",
    "\n",
    "        # Convert logits to probabilities (softmax)\n",
    "        probs = torch.nn.functional.softmax(torch.tensor(logits), dim=1)\n",
    "\n",
    "        # Get the predicted class with the highest probability\n",
    "        batch_predictions = torch.argmax(probs, axis=1).numpy()\n",
    "\n",
    "        # Store the predictions\n",
    "        test_predictions.extend(batch_predictions)\n",
    "\n",
    "# Converting the predictions to genre names\n",
    "test_genre_predictions = [label_to_genre[label] for label in test_predictions]\n",
    "\n",
    "# Selecting a random index to print\n",
    "random_index = random.randint(0, len(test_df) - 1)\n",
    "\n",
    "# Print a random summary and its predicted genre\n",
    "print(\"Random Summary:\")\n",
    "print(test_df['cleaned_summary'].iloc[random_index])\n",
    "print(\"\\nPredicted Genre:\")\n",
    "print(test_genre_predictions[random_index])\n"
   ]
  }
 ],
 "metadata": {
  "kernelspec": {
   "display_name": "comp",
   "language": "python",
   "name": "python3"
  },
  "language_info": {
   "codemirror_mode": {
    "name": "ipython",
    "version": 3
   },
   "file_extension": ".py",
   "mimetype": "text/x-python",
   "name": "python",
   "nbconvert_exporter": "python",
   "pygments_lexer": "ipython3",
   "version": "3.9.0"
  }
 },
 "nbformat": 4,
 "nbformat_minor": 2
}
